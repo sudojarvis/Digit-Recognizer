{
 "cells": [
  {
   "cell_type": "code",
   "execution_count": 1,
   "id": "b9e22d09-03c9-4080-bf6f-b1831ce71644",
   "metadata": {},
   "outputs": [],
   "source": [
    "import pandas as pd\n",
    "import matplotlib.pyplot as plt\n",
    "import numpy as np\n",
    "from tensorflow import keras"
   ]
  },
  {
   "cell_type": "code",
   "execution_count": 38,
   "id": "8bde8c12-3683-4193-a1d6-fe352fe55249",
   "metadata": {},
   "outputs": [
    {
     "data": {
      "text/html": [
       "<div>\n",
       "<style scoped>\n",
       "    .dataframe tbody tr th:only-of-type {\n",
       "        vertical-align: middle;\n",
       "    }\n",
       "\n",
       "    .dataframe tbody tr th {\n",
       "        vertical-align: top;\n",
       "    }\n",
       "\n",
       "    .dataframe thead th {\n",
       "        text-align: right;\n",
       "    }\n",
       "</style>\n",
       "<table border=\"1\" class=\"dataframe\">\n",
       "  <thead>\n",
       "    <tr style=\"text-align: right;\">\n",
       "      <th></th>\n",
       "      <th>label</th>\n",
       "      <th>pixel0</th>\n",
       "      <th>pixel1</th>\n",
       "      <th>pixel2</th>\n",
       "      <th>pixel3</th>\n",
       "      <th>pixel4</th>\n",
       "      <th>pixel5</th>\n",
       "      <th>pixel6</th>\n",
       "      <th>pixel7</th>\n",
       "      <th>pixel8</th>\n",
       "      <th>...</th>\n",
       "      <th>pixel774</th>\n",
       "      <th>pixel775</th>\n",
       "      <th>pixel776</th>\n",
       "      <th>pixel777</th>\n",
       "      <th>pixel778</th>\n",
       "      <th>pixel779</th>\n",
       "      <th>pixel780</th>\n",
       "      <th>pixel781</th>\n",
       "      <th>pixel782</th>\n",
       "      <th>pixel783</th>\n",
       "    </tr>\n",
       "  </thead>\n",
       "  <tbody>\n",
       "    <tr>\n",
       "      <th>0</th>\n",
       "      <td>1</td>\n",
       "      <td>0</td>\n",
       "      <td>0</td>\n",
       "      <td>0</td>\n",
       "      <td>0</td>\n",
       "      <td>0</td>\n",
       "      <td>0</td>\n",
       "      <td>0</td>\n",
       "      <td>0</td>\n",
       "      <td>0</td>\n",
       "      <td>...</td>\n",
       "      <td>0</td>\n",
       "      <td>0</td>\n",
       "      <td>0</td>\n",
       "      <td>0</td>\n",
       "      <td>0</td>\n",
       "      <td>0</td>\n",
       "      <td>0</td>\n",
       "      <td>0</td>\n",
       "      <td>0</td>\n",
       "      <td>0</td>\n",
       "    </tr>\n",
       "    <tr>\n",
       "      <th>1</th>\n",
       "      <td>0</td>\n",
       "      <td>0</td>\n",
       "      <td>0</td>\n",
       "      <td>0</td>\n",
       "      <td>0</td>\n",
       "      <td>0</td>\n",
       "      <td>0</td>\n",
       "      <td>0</td>\n",
       "      <td>0</td>\n",
       "      <td>0</td>\n",
       "      <td>...</td>\n",
       "      <td>0</td>\n",
       "      <td>0</td>\n",
       "      <td>0</td>\n",
       "      <td>0</td>\n",
       "      <td>0</td>\n",
       "      <td>0</td>\n",
       "      <td>0</td>\n",
       "      <td>0</td>\n",
       "      <td>0</td>\n",
       "      <td>0</td>\n",
       "    </tr>\n",
       "    <tr>\n",
       "      <th>2</th>\n",
       "      <td>1</td>\n",
       "      <td>0</td>\n",
       "      <td>0</td>\n",
       "      <td>0</td>\n",
       "      <td>0</td>\n",
       "      <td>0</td>\n",
       "      <td>0</td>\n",
       "      <td>0</td>\n",
       "      <td>0</td>\n",
       "      <td>0</td>\n",
       "      <td>...</td>\n",
       "      <td>0</td>\n",
       "      <td>0</td>\n",
       "      <td>0</td>\n",
       "      <td>0</td>\n",
       "      <td>0</td>\n",
       "      <td>0</td>\n",
       "      <td>0</td>\n",
       "      <td>0</td>\n",
       "      <td>0</td>\n",
       "      <td>0</td>\n",
       "    </tr>\n",
       "    <tr>\n",
       "      <th>3</th>\n",
       "      <td>4</td>\n",
       "      <td>0</td>\n",
       "      <td>0</td>\n",
       "      <td>0</td>\n",
       "      <td>0</td>\n",
       "      <td>0</td>\n",
       "      <td>0</td>\n",
       "      <td>0</td>\n",
       "      <td>0</td>\n",
       "      <td>0</td>\n",
       "      <td>...</td>\n",
       "      <td>0</td>\n",
       "      <td>0</td>\n",
       "      <td>0</td>\n",
       "      <td>0</td>\n",
       "      <td>0</td>\n",
       "      <td>0</td>\n",
       "      <td>0</td>\n",
       "      <td>0</td>\n",
       "      <td>0</td>\n",
       "      <td>0</td>\n",
       "    </tr>\n",
       "    <tr>\n",
       "      <th>4</th>\n",
       "      <td>0</td>\n",
       "      <td>0</td>\n",
       "      <td>0</td>\n",
       "      <td>0</td>\n",
       "      <td>0</td>\n",
       "      <td>0</td>\n",
       "      <td>0</td>\n",
       "      <td>0</td>\n",
       "      <td>0</td>\n",
       "      <td>0</td>\n",
       "      <td>...</td>\n",
       "      <td>0</td>\n",
       "      <td>0</td>\n",
       "      <td>0</td>\n",
       "      <td>0</td>\n",
       "      <td>0</td>\n",
       "      <td>0</td>\n",
       "      <td>0</td>\n",
       "      <td>0</td>\n",
       "      <td>0</td>\n",
       "      <td>0</td>\n",
       "    </tr>\n",
       "  </tbody>\n",
       "</table>\n",
       "<p>5 rows × 785 columns</p>\n",
       "</div>"
      ],
      "text/plain": [
       "   label  pixel0  pixel1  pixel2  pixel3  pixel4  pixel5  pixel6  pixel7  \\\n",
       "0      1       0       0       0       0       0       0       0       0   \n",
       "1      0       0       0       0       0       0       0       0       0   \n",
       "2      1       0       0       0       0       0       0       0       0   \n",
       "3      4       0       0       0       0       0       0       0       0   \n",
       "4      0       0       0       0       0       0       0       0       0   \n",
       "\n",
       "   pixel8  ...  pixel774  pixel775  pixel776  pixel777  pixel778  pixel779  \\\n",
       "0       0  ...         0         0         0         0         0         0   \n",
       "1       0  ...         0         0         0         0         0         0   \n",
       "2       0  ...         0         0         0         0         0         0   \n",
       "3       0  ...         0         0         0         0         0         0   \n",
       "4       0  ...         0         0         0         0         0         0   \n",
       "\n",
       "   pixel780  pixel781  pixel782  pixel783  \n",
       "0         0         0         0         0  \n",
       "1         0         0         0         0  \n",
       "2         0         0         0         0  \n",
       "3         0         0         0         0  \n",
       "4         0         0         0         0  \n",
       "\n",
       "[5 rows x 785 columns]"
      ]
     },
     "execution_count": 38,
     "metadata": {},
     "output_type": "execute_result"
    }
   ],
   "source": [
    "training_set=pd.read_csv('training_set.csv')\n",
    "test_set=pd.read_csv('test_set.csv')\n",
    "submission=pd.read_csv('sample_submission.csv')\n",
    "training_set.head()"
   ]
  },
  {
   "cell_type": "code",
   "execution_count": 39,
   "id": "e1e0e603-46ef-4dae-980d-1b37b9a90366",
   "metadata": {},
   "outputs": [
    {
     "data": {
      "text/plain": [
       "label       0\n",
       "pixel0      0\n",
       "pixel1      0\n",
       "pixel2      0\n",
       "pixel3      0\n",
       "           ..\n",
       "pixel779    0\n",
       "pixel780    0\n",
       "pixel781    0\n",
       "pixel782    0\n",
       "pixel783    0\n",
       "Length: 785, dtype: int64"
      ]
     },
     "execution_count": 39,
     "metadata": {},
     "output_type": "execute_result"
    }
   ],
   "source": [
    "training_set.isnull().sum()"
   ]
  },
  {
   "cell_type": "code",
   "execution_count": 40,
   "id": "659dac40-b180-41ee-ab7e-67ea5f08f5ff",
   "metadata": {},
   "outputs": [
    {
     "data": {
      "text/plain": [
       "label\n",
       "0    4132\n",
       "1    4684\n",
       "2    4177\n",
       "3    4351\n",
       "4    4072\n",
       "5    3795\n",
       "6    4137\n",
       "7    4401\n",
       "8    4063\n",
       "9    4188\n",
       "dtype: int64"
      ]
     },
     "execution_count": 40,
     "metadata": {},
     "output_type": "execute_result"
    }
   ],
   "source": [
    "df=training_set.groupby('label').size()\n",
    "df"
   ]
  },
  {
   "cell_type": "code",
   "execution_count": 41,
   "id": "2732ef2b-beea-41c1-9492-c6c68d3464f3",
   "metadata": {},
   "outputs": [
    {
     "data": {
      "text/plain": [
       "([<matplotlib.patches.Wedge at 0x7f1b70150f10>,\n",
       "  <matplotlib.patches.Wedge at 0x7f1bbcc97310>,\n",
       "  <matplotlib.patches.Wedge at 0x7f1bbcc50130>,\n",
       "  <matplotlib.patches.Wedge at 0x7f1b686c4040>,\n",
       "  <matplotlib.patches.Wedge at 0x7f1b685912e0>,\n",
       "  <matplotlib.patches.Wedge at 0x7f1b68591c70>,\n",
       "  <matplotlib.patches.Wedge at 0x7f1b685b2640>,\n",
       "  <matplotlib.patches.Wedge at 0x7f1b685b2fd0>,\n",
       "  <matplotlib.patches.Wedge at 0x7f1b6859d9a0>,\n",
       "  <matplotlib.patches.Wedge at 0x7f1b685c8370>],\n",
       " [Text(1.009715941908538, 0.648439447177417, '0'),\n",
       "  Text(0.4007374530752824, 1.1311098504136263, '1'),\n",
       "  Text(-0.38011292572475985, 1.1382065558135586, '2'),\n",
       "  Text(-0.9831711880125127, 0.6880221036144585, '3'),\n",
       "  Text(-1.1997730739283365, -0.023336046720701168, '4'),\n",
       "  Text(-0.9850203532861802, -0.6853720913576572, '5'),\n",
       "  Text(-0.43347529014466857, -1.1189723735794355, '6'),\n",
       "  Text(0.3189845490579556, -1.1568270646307912, '7'),\n",
       "  Text(0.9416017563349527, -0.7438992757537357, '8'),\n",
       "  Text(1.1984113249685857, -0.06172759664071627, '9')],\n",
       " [Text(0.5890009661133138, 0.3782563441868266, '9.8%'),\n",
       "  Text(0.2337635142939147, 0.6598140794079486, '11.2%'),\n",
       "  Text(-0.2217325400061099, 0.6639538242245757, '9.9%'),\n",
       "  Text(-0.5735165263406323, 0.40134622710843404, '10.4%'),\n",
       "  Text(-0.6998676264581962, -0.013612693920409015, '9.7%'),\n",
       "  Text(-0.574595206083605, -0.39980038662530004, '9.0%'),\n",
       "  Text(-0.2528605859177233, -0.652733884588004, '9.8%'),\n",
       "  Text(0.1860743202838074, -0.6748157877012949, '10.5%'),\n",
       "  Text(0.549267691195389, -0.43394124418967917, '9.7%'),\n",
       "  Text(0.6990732728983415, -0.036007764707084486, '10.0%')])"
      ]
     },
     "execution_count": 41,
     "metadata": {},
     "output_type": "execute_result"
    },
    {
     "data": {
      "image/png": "[encoded data removed]",
      "text/plain": [
       "<Figure size 504x504 with 1 Axes>"
      ]
     },
     "metadata": {},
     "output_type": "display_data"
    }
   ],
   "source": [
    "label='0','1','2','3','4','5','6','7','8','9'\n",
    "my_explode=(0.1, 0.1, 0.1,0.1,0.1,0.1,0.1,0.1,0.1,0.1,)\n",
    "plt.figure(figsize=(7,7))\n",
    "plt.pie(df,labels=label, autopct='%1.1f%%',startangle=15, shadow=True ,explode=my_explode)"
   ]
  },
  {
   "cell_type": "code",
   "execution_count": 42,
   "id": "ed9be0f7-f4bf-4e3b-98ce-5cba47562314",
   "metadata": {},
   "outputs": [
    {
     "data": {
      "text/plain": [
       "<BarContainer object of 10 artists>"
      ]
     },
     "execution_count": 42,
     "metadata": {},
     "output_type": "execute_result"
    },
    {
     "data": {
      "image/png": "[encoded data removed]",
      "text/plain": [
       "<Figure size 504x504 with 1 Axes>"
      ]
     },
     "metadata": {
      "needs_background": "light"
     },
     "output_type": "display_data"
    }
   ],
   "source": [
    "plt.figure(figsize=(7,7))\n",
    "colors=['#d580ff','#b3b3ff','#9fff80','#002699','#cc80ff','#70db70','#ffd24d','#ff6666','#b3b3ff','#b3b300']\n",
    "plt.bar(label,df,color=colors)"
   ]
  },
  {
   "cell_type": "code",
   "execution_count": 43,
   "id": "a568684e-a276-4d50-907b-031af8d05b6e",
   "metadata": {},
   "outputs": [],
   "source": [
    "y=training_set['label']"
   ]
  },
  {
   "cell_type": "code",
   "execution_count": 44,
   "id": "ce8bea0f-3034-4f7a-856d-d1c59e708fdb",
   "metadata": {},
   "outputs": [],
   "source": [
    "from keras.utils.np_utils import to_categorical \n",
    "y= to_categorical(y)"
   ]
  },
  {
   "cell_type": "code",
   "execution_count": 45,
   "id": "991a22d1-68a0-4d64-94f3-1ee4a2d22092",
   "metadata": {},
   "outputs": [],
   "source": [
    "x=training_set.drop(labels='label',axis=1)"
   ]
  },
  {
   "cell_type": "code",
   "execution_count": 46,
   "id": "37593c0a-da8a-4ed8-a4d2-f0bb3a711980",
   "metadata": {},
   "outputs": [
    {
     "data": {
      "image/png": "[encoded data removed]",
      "text/plain": [
       "<Figure size 108x108 with 1 Axes>"
      ]
     },
     "metadata": {
      "needs_background": "light"
     },
     "output_type": "display_data"
    },
    {
     "data": {
      "image/png": "[encoded data removed]",
      "text/plain": [
       "<Figure size 108x108 with 1 Axes>"
      ]
     },
     "metadata": {
      "needs_background": "light"
     },
     "output_type": "display_data"
    },
    {
     "data": {
      "image/png": "[encoded data removed]",
      "text/plain": [
       "<Figure size 108x108 with 1 Axes>"
      ]
     },
     "metadata": {
      "needs_background": "light"
     },
     "output_type": "display_data"
    },
    {
     "data": {
      "image/png": "[encoded data removed]",
      "text/plain": [
       "<Figure size 108x108 with 1 Axes>"
      ]
     },
     "metadata": {
      "needs_background": "light"
     },
     "output_type": "display_data"
    },
    {
     "data": {
      "image/png": "[encoded data removed]",
      "text/plain": [
       "<Figure size 108x108 with 1 Axes>"
      ]
     },
     "metadata": {
      "needs_background": "light"
     },
     "output_type": "display_data"
    },
    {
     "data": {
      "image/png": "[encoded data removed]",
      "text/plain": [
       "<Figure size 108x108 with 1 Axes>"
      ]
     },
     "metadata": {
      "needs_background": "light"
     },
     "output_type": "display_data"
    },
    {
     "data": {
      "image/png": "[encoded data removed]",
      "text/plain": [
       "<Figure size 108x108 with 1 Axes>"
      ]
     },
     "metadata": {
      "needs_background": "light"
     },
     "output_type": "display_data"
    },
    {
     "data": {
      "image/png": "[encoded data removed]",
      "text/plain": [
       "<Figure size 108x108 with 1 Axes>"
      ]
     },
     "metadata": {
      "needs_background": "light"
     },
     "output_type": "display_data"
    }
   ],
   "source": [
    "for i in range(0,8):\n",
    "    digit1=(x.iloc[i:i+1,:].to_numpy()).reshape(28,28,1)\n",
    "    plt.figure(figsize=(1.5,1.5))\n",
    "    plt.imshow(digit1)"
   ]
  },
  {
   "cell_type": "code",
   "execution_count": 47,
   "id": "1e222fb0-289c-4a6c-932d-5be09e266556",
   "metadata": {},
   "outputs": [],
   "source": [
    "from sklearn.model_selection import train_test_split\n",
    "x_train, x_test, y_train, y_test=train_test_split(x,y,test_size=0.2,random_state=0)\n"
   ]
  },
  {
   "cell_type": "code",
   "execution_count": null,
   "id": "59d33f77-58e7-4906-b097-b18a802605a3",
   "metadata": {},
   "outputs": [],
   "source": []
  },
  {
   "cell_type": "code",
   "execution_count": 48,
   "id": "4b691a82-b2b9-4c48-9b2c-346d92510182",
   "metadata": {},
   "outputs": [
    {
     "data": {
      "text/plain": [
       "(33600, 784)"
      ]
     },
     "execution_count": 48,
     "metadata": {},
     "output_type": "execute_result"
    }
   ],
   "source": [
    "x_train.shape"
   ]
  },
  {
   "cell_type": "code",
   "execution_count": 49,
   "id": "9cfc353b-7cd2-4456-aea9-521ae3095caa",
   "metadata": {},
   "outputs": [],
   "source": [
    "x_train=x_train.values.reshape(len(x_train),28,28,1)"
   ]
  },
  {
   "cell_type": "code",
   "execution_count": 50,
   "id": "ef0b055b-4ad8-489a-ae0b-6362249a4033",
   "metadata": {},
   "outputs": [],
   "source": [
    "x_test=x_test.values.reshape(len(x_test),28,28,1)"
   ]
  },
  {
   "cell_type": "code",
   "execution_count": 51,
   "id": "b4f54bf7-6f9a-4b8d-a46e-768f3e7e6de3",
   "metadata": {},
   "outputs": [
    {
     "name": "stdout",
     "output_type": "stream",
     "text": [
      "[[0. 0. 0. ... 0. 0. 0.]\n",
      " [0. 0. 0. ... 0. 0. 0.]\n",
      " [0. 0. 0. ... 0. 0. 1.]\n",
      " ...\n",
      " [0. 0. 1. ... 0. 0. 0.]\n",
      " [0. 0. 0. ... 1. 0. 0.]\n",
      " [0. 0. 1. ... 0. 0. 0.]]\n"
     ]
    }
   ],
   "source": [
    "print(y_test)"
   ]
  },
  {
   "cell_type": "code",
   "execution_count": 52,
   "id": "0880b8f3-7995-49ad-a6aa-d2a35085eae1",
   "metadata": {},
   "outputs": [
    {
     "data": {
      "text/plain": [
       "(8400, 10)"
      ]
     },
     "execution_count": 52,
     "metadata": {},
     "output_type": "execute_result"
    }
   ],
   "source": [
    "y_test.shape"
   ]
  },
  {
   "cell_type": "code",
   "execution_count": 53,
   "id": "2c047d63-b348-4670-aa30-4ba2dc674683",
   "metadata": {},
   "outputs": [
    {
     "data": {
      "text/plain": [
       "(33600, 10)"
      ]
     },
     "execution_count": 53,
     "metadata": {},
     "output_type": "execute_result"
    }
   ],
   "source": [
    "y_train.shape"
   ]
  },
  {
   "cell_type": "code",
   "execution_count": 54,
   "id": "d6349da8-e872-4a87-81c1-d56efba45a48",
   "metadata": {},
   "outputs": [
    {
     "name": "stdout",
     "output_type": "stream",
     "text": [
      "[[0. 0. 0. ... 0. 0. 0.]\n",
      " [0. 0. 0. ... 0. 0. 0.]\n",
      " [0. 0. 0. ... 0. 0. 0.]\n",
      " ...\n",
      " [0. 0. 0. ... 0. 0. 1.]\n",
      " [1. 0. 0. ... 0. 0. 0.]\n",
      " [0. 0. 0. ... 0. 0. 1.]]\n"
     ]
    }
   ],
   "source": [
    "print(y_train)"
   ]
  },
  {
   "cell_type": "code",
   "execution_count": 55,
   "id": "3b8067ff-d17e-422e-934f-d0aee4d9b98d",
   "metadata": {},
   "outputs": [],
   "source": [
    "import tensorflow as tf"
   ]
  },
  {
   "cell_type": "code",
   "execution_count": 56,
   "id": "d362e29f-5907-4045-a172-6415c00f8061",
   "metadata": {},
   "outputs": [],
   "source": [
    "cnn=tf.keras.models.Sequential()"
   ]
  },
  {
   "cell_type": "code",
   "execution_count": 57,
   "id": "69d17c51-bc49-47b3-8e0b-9e7a42fd3dd7",
   "metadata": {},
   "outputs": [],
   "source": [
    "cnn.add(tf.keras.layers.Conv2D(filters=32,kernel_size=(4,4), activation='relu', input_shape=(28, 28, 1)))\n",
    "cnn.add(tf.keras.layers.MaxPool2D(pool_size=2,strides=2))\n",
    "\n",
    "cnn.add(tf.keras.layers.Conv2D(filters=32, kernel_size=(4,4), activation='relu', input_shape=(28, 28, 1)))\n",
    "cnn.add(tf.keras.layers.MaxPool2D(pool_size=2,strides=2))\n",
    "\n",
    "\n",
    "cnn.add(tf.keras.layers.Flatten())\n",
    "cnn.add(tf.keras.layers.Dense(units=10 ,activation='softmax'))\n",
    "cnn.compile(optimizer= 'adam', loss= 'categorical_crossentropy', metrics = ['accuracy'])\n"
   ]
  },
  {
   "cell_type": "code",
   "execution_count": 58,
   "id": "e2dcc07c-4868-42cf-8668-db92b1e1432b",
   "metadata": {},
   "outputs": [],
   "source": [
    "reduce_lr=tf.keras.callbacks.ReduceLROnPlateau(monitor='accuracy',factor=0.2,patience=5,min_lr=0.001)"
   ]
  },
  {
   "cell_type": "code",
   "execution_count": 59,
   "id": "f34a63bc-f061-4835-9b06-9eee4faccca9",
   "metadata": {},
   "outputs": [
    {
     "name": "stdout",
     "output_type": "stream",
     "text": [
      "Epoch 1/32\n",
      "1050/1050 [==============================] - 15s 14ms/step - loss: 0.5861 - accuracy: 0.9013 - val_loss: 0.1658 - val_accuracy: 0.9521\n",
      "Epoch 2/32\n",
      "1050/1050 [==============================] - 13s 13ms/step - loss: 0.0986 - accuracy: 0.9700 - val_loss: 0.1093 - val_accuracy: 0.9713\n",
      "Epoch 3/32\n",
      "1050/1050 [==============================] - 12s 11ms/step - loss: 0.0741 - accuracy: 0.9776 - val_loss: 0.1290 - val_accuracy: 0.9658\n",
      "Epoch 4/32\n",
      "1050/1050 [==============================] - 12s 11ms/step - loss: 0.0646 - accuracy: 0.9809 - val_loss: 0.0831 - val_accuracy: 0.9758\n",
      "Epoch 5/32\n",
      "1050/1050 [==============================] - 11s 11ms/step - loss: 0.0538 - accuracy: 0.9841 - val_loss: 0.0863 - val_accuracy: 0.9769\n",
      "Epoch 6/32\n",
      "1050/1050 [==============================] - 11s 11ms/step - loss: 0.0455 - accuracy: 0.9870 - val_loss: 0.1356 - val_accuracy: 0.9738\n",
      "Epoch 7/32\n",
      "1050/1050 [==============================] - 12s 11ms/step - loss: 0.0504 - accuracy: 0.9863 - val_loss: 0.0992 - val_accuracy: 0.9756\n",
      "Epoch 8/32\n",
      "1050/1050 [==============================] - 11s 11ms/step - loss: 0.0441 - accuracy: 0.9875 - val_loss: 0.0879 - val_accuracy: 0.9786\n",
      "Epoch 9/32\n",
      "1050/1050 [==============================] - 11s 11ms/step - loss: 0.0420 - accuracy: 0.9872 - val_loss: 0.0822 - val_accuracy: 0.9824\n",
      "Epoch 10/32\n",
      "1050/1050 [==============================] - 11s 11ms/step - loss: 0.0361 - accuracy: 0.9898 - val_loss: 0.1002 - val_accuracy: 0.9788\n",
      "Epoch 11/32\n",
      "1050/1050 [==============================] - 16s 15ms/step - loss: 0.0308 - accuracy: 0.9913 - val_loss: 0.1224 - val_accuracy: 0.9804\n",
      "Epoch 12/32\n",
      "1050/1050 [==============================] - 16s 15ms/step - loss: 0.0350 - accuracy: 0.9906 - val_loss: 0.0954 - val_accuracy: 0.9823\n",
      "Epoch 13/32\n",
      "1050/1050 [==============================] - 12s 12ms/step - loss: 0.0315 - accuracy: 0.9920 - val_loss: 0.1116 - val_accuracy: 0.9801\n",
      "Epoch 14/32\n",
      "1050/1050 [==============================] - 12s 12ms/step - loss: 0.0276 - accuracy: 0.9923 - val_loss: 0.1191 - val_accuracy: 0.9821\n",
      "Epoch 15/32\n",
      "1050/1050 [==============================] - 14s 13ms/step - loss: 0.0318 - accuracy: 0.9917 - val_loss: 0.1326 - val_accuracy: 0.9775\n",
      "Epoch 16/32\n",
      "1050/1050 [==============================] - 15s 14ms/step - loss: 0.0275 - accuracy: 0.9928 - val_loss: 0.1501 - val_accuracy: 0.9769\n",
      "Epoch 17/32\n",
      "1050/1050 [==============================] - 15s 14ms/step - loss: 0.0362 - accuracy: 0.9920 - val_loss: 0.1746 - val_accuracy: 0.9811\n",
      "Epoch 18/32\n",
      "1050/1050 [==============================] - 13s 12ms/step - loss: 0.0333 - accuracy: 0.9929 - val_loss: 0.1804 - val_accuracy: 0.9789\n",
      "Epoch 19/32\n",
      "1050/1050 [==============================] - 14s 13ms/step - loss: 0.0273 - accuracy: 0.9942 - val_loss: 0.1555 - val_accuracy: 0.9826\n",
      "Epoch 20/32\n",
      "1050/1050 [==============================] - 13s 12ms/step - loss: 0.0319 - accuracy: 0.9935 - val_loss: 0.1295 - val_accuracy: 0.9846\n",
      "Epoch 21/32\n",
      "1050/1050 [==============================] - 13s 13ms/step - loss: 0.0277 - accuracy: 0.9944 - val_loss: 0.1712 - val_accuracy: 0.9823\n",
      "Epoch 22/32\n",
      "1050/1050 [==============================] - 13s 12ms/step - loss: 0.0357 - accuracy: 0.9940 - val_loss: 0.1351 - val_accuracy: 0.9858\n",
      "Epoch 23/32\n",
      "1050/1050 [==============================] - 12s 11ms/step - loss: 0.0228 - accuracy: 0.9954 - val_loss: 0.1833 - val_accuracy: 0.9844\n",
      "Epoch 24/32\n",
      "1050/1050 [==============================] - 17s 16ms/step - loss: 0.0258 - accuracy: 0.9948 - val_loss: 0.1398 - val_accuracy: 0.9870\n",
      "Epoch 25/32\n",
      "1050/1050 [==============================] - 16s 16ms/step - loss: 0.0259 - accuracy: 0.9958 - val_loss: 0.2012 - val_accuracy: 0.9861\n",
      "Epoch 26/32\n",
      "1050/1050 [==============================] - 14s 14ms/step - loss: 0.0333 - accuracy: 0.9949 - val_loss: 0.2955 - val_accuracy: 0.9780\n",
      "Epoch 27/32\n",
      "1050/1050 [==============================] - 14s 13ms/step - loss: 0.0353 - accuracy: 0.9950 - val_loss: 0.2219 - val_accuracy: 0.9819\n",
      "Epoch 28/32\n",
      "1050/1050 [==============================] - 12s 11ms/step - loss: 0.0257 - accuracy: 0.9958 - val_loss: 0.2193 - val_accuracy: 0.9855\n",
      "Epoch 29/32\n",
      "1050/1050 [==============================] - 12s 12ms/step - loss: 0.0301 - accuracy: 0.9956 - val_loss: 0.1683 - val_accuracy: 0.9852\n",
      "Epoch 30/32\n",
      "1050/1050 [==============================] - 15s 15ms/step - loss: 0.0294 - accuracy: 0.9962 - val_loss: 0.2177 - val_accuracy: 0.9851\n",
      "Epoch 31/32\n",
      "1050/1050 [==============================] - 12s 11ms/step - loss: 0.0235 - accuracy: 0.9963 - val_loss: 0.2866 - val_accuracy: 0.9854\n",
      "Epoch 32/32\n",
      "1050/1050 [==============================] - 14s 13ms/step - loss: 0.0430 - accuracy: 0.9951 - val_loss: 0.3106 - val_accuracy: 0.9831\n"
     ]
    }
   ],
   "source": [
    "history=cnn.fit(x_train, y_train, validation_data=(x_test ,y_test), epochs=32, callbacks=[reduce_lr])"
   ]
  },
  {
   "cell_type": "code",
   "execution_count": 60,
   "id": "567e3cd0-f9c2-4029-bf62-b6cc5cca7b44",
   "metadata": {},
   "outputs": [],
   "source": [
    "y_pred = cnn.predict(x_test)"
   ]
  },
  {
   "cell_type": "code",
   "execution_count": 61,
   "id": "e665977c-1eb7-46a2-8699-b6c0ae16e225",
   "metadata": {},
   "outputs": [],
   "source": [
    "y_pred=np.argmax(y_pred, axis=1)\n",
    "y_test=np.argmax(y_test, axis=1)\n"
   ]
  },
  {
   "cell_type": "code",
   "execution_count": 62,
   "id": "e6440c48-bc17-47c5-8b7f-f23c0366a490",
   "metadata": {},
   "outputs": [
    {
     "data": {
      "text/plain": [
       "array([3, 6, 9, ..., 2, 7, 2])"
      ]
     },
     "execution_count": 62,
     "metadata": {},
     "output_type": "execute_result"
    }
   ],
   "source": [
    "y_pred"
   ]
  },
  {
   "cell_type": "code",
   "execution_count": 63,
   "id": "7db4e73c-0aaa-4ecc-8f0f-f984876cd259",
   "metadata": {},
   "outputs": [
    {
     "data": {
      "text/plain": [
       "array([3, 6, 9, ..., 2, 7, 2])"
      ]
     },
     "execution_count": 63,
     "metadata": {},
     "output_type": "execute_result"
    }
   ],
   "source": [
    "y_test"
   ]
  },
  {
   "cell_type": "code",
   "execution_count": 64,
   "id": "430a0471-0ce6-4042-8e5a-54cdb1aecebf",
   "metadata": {},
   "outputs": [
    {
     "name": "stdout",
     "output_type": "stream",
     "text": [
      "[[808   0   2   0   1   0   2   0   0   0]\n",
      " [  0 949   6   2   1   0   0   1   1   1]\n",
      " [  2   1 853   0   0   0   0   2   2   0]\n",
      " [  0   0   4 853   1   1   0   1   0   3]\n",
      " [  1   2   0   0 808   0   3   0   0  13]\n",
      " [  1   0   0   4   0 743   2   0   3   3]\n",
      " [  3   1   1   0   2   2 831   0   1   0]\n",
      " [  2   2  17   3   7   1   0 857   1   9]\n",
      " [  1   0   3   1   0   0   2   0 757   4]\n",
      " [  3   0   1   2   1   1   0   0   5 799]]\n"
     ]
    },
    {
     "data": {
      "text/plain": [
       "0.9830952380952381"
      ]
     },
     "execution_count": 64,
     "metadata": {},
     "output_type": "execute_result"
    }
   ],
   "source": [
    "from sklearn.metrics import confusion_matrix, accuracy_score\n",
    "cn=confusion_matrix(y_test,y_pred)\n",
    "print(cn)\n",
    "accuracy_score(y_test,y_pred)"
   ]
  },
  {
   "cell_type": "code",
   "execution_count": 65,
   "id": "c7826c2b-c1b6-4192-af66-b4eb8164cb56",
   "metadata": {},
   "outputs": [
    {
     "name": "stdout",
     "output_type": "stream",
     "text": [
      "dict_keys(['loss', 'accuracy', 'val_loss', 'val_accuracy', 'lr'])\n"
     ]
    }
   ],
   "source": [
    "print(history.history.keys())"
   ]
  },
  {
   "cell_type": "code",
   "execution_count": 66,
   "id": "f436fe81-b1ff-41e5-a666-0ae5b2d423dd",
   "metadata": {},
   "outputs": [
    {
     "data": {
      "image/png": "[encoded data removed]",
      "text/plain": [
       "<Figure size 432x288 with 1 Axes>"
      ]
     },
     "metadata": {
      "needs_background": "light"
     },
     "output_type": "display_data"
    }
   ],
   "source": [
    "plt.plot(history.history['loss'], label='loss')\n",
    "plt.plot(history.history['accuracy'], label='accuracy')\n",
    "plt.legend()\n",
    "plt.show()"
   ]
  },
  {
   "cell_type": "code",
   "execution_count": 67,
   "id": "2434d817-6262-458e-97e8-a1283782413a",
   "metadata": {},
   "outputs": [],
   "source": [
    "test_set=test_set.values.reshape(-1,28,28,1)"
   ]
  },
  {
   "cell_type": "code",
   "execution_count": 68,
   "id": "a994e2a4-483b-494d-b82d-9ba75cc327e8",
   "metadata": {},
   "outputs": [],
   "source": [
    "Y_prediction=cnn.predict(test_set)"
   ]
  },
  {
   "cell_type": "code",
   "execution_count": 69,
   "id": "a0aa9b2d-270c-4081-b1b1-4677b88926c8",
   "metadata": {},
   "outputs": [],
   "source": [
    "Y_prediction=np.argmax(Y_prediction, axis=1)"
   ]
  },
  {
   "cell_type": "code",
   "execution_count": 70,
   "id": "43f9e811-0c19-4867-ac00-d8d4d7445325",
   "metadata": {},
   "outputs": [
    {
     "data": {
      "text/plain": [
       "array([2, 0, 9, ..., 3, 9, 2])"
      ]
     },
     "execution_count": 70,
     "metadata": {},
     "output_type": "execute_result"
    }
   ],
   "source": [
    "Y_prediction"
   ]
  },
  {
   "cell_type": "code",
   "execution_count": 71,
   "id": "a3c1cb5f-ddc6-4854-a70f-03640c290cc4",
   "metadata": {},
   "outputs": [
    {
     "data": {
      "text/html": [
       "<div>\n",
       "<style scoped>\n",
       "    .dataframe tbody tr th:only-of-type {\n",
       "        vertical-align: middle;\n",
       "    }\n",
       "\n",
       "    .dataframe tbody tr th {\n",
       "        vertical-align: top;\n",
       "    }\n",
       "\n",
       "    .dataframe thead th {\n",
       "        text-align: right;\n",
       "    }\n",
       "</style>\n",
       "<table border=\"1\" class=\"dataframe\">\n",
       "  <thead>\n",
       "    <tr style=\"text-align: right;\">\n",
       "      <th></th>\n",
       "      <th>ImageId</th>\n",
       "      <th>Label</th>\n",
       "    </tr>\n",
       "  </thead>\n",
       "  <tbody>\n",
       "    <tr>\n",
       "      <th>0</th>\n",
       "      <td>1</td>\n",
       "      <td>2</td>\n",
       "    </tr>\n",
       "    <tr>\n",
       "      <th>1</th>\n",
       "      <td>2</td>\n",
       "      <td>0</td>\n",
       "    </tr>\n",
       "    <tr>\n",
       "      <th>2</th>\n",
       "      <td>3</td>\n",
       "      <td>9</td>\n",
       "    </tr>\n",
       "    <tr>\n",
       "      <th>3</th>\n",
       "      <td>4</td>\n",
       "      <td>9</td>\n",
       "    </tr>\n",
       "    <tr>\n",
       "      <th>4</th>\n",
       "      <td>5</td>\n",
       "      <td>3</td>\n",
       "    </tr>\n",
       "  </tbody>\n",
       "</table>\n",
       "</div>"
      ],
      "text/plain": [
       "   ImageId  Label\n",
       "0        1      2\n",
       "1        2      0\n",
       "2        3      9\n",
       "3        4      9\n",
       "4        5      3"
      ]
     },
     "execution_count": 71,
     "metadata": {},
     "output_type": "execute_result"
    }
   ],
   "source": [
    "submission['Label'] = Y_prediction\n",
    "submission.to_csv(\"my_submission.csv\", index=False)\n",
    "submission.head()"
   ]
  }
 ],
 "metadata": {
  "kernelspec": {
   "display_name": "Python 3",
   "language": "python",
   "name": "python3"
  },
  "language_info": {
   "codemirror_mode": {
    "name": "ipython",
    "version": 3
   },
   "file_extension": ".py",
   "mimetype": "text/x-python",
   "name": "python",
   "nbconvert_exporter": "python",
   "pygments_lexer": "ipython3",
   "version": "3.8.5"
  }
 },
 "nbformat": 4,
 "nbformat_minor": 5
}
